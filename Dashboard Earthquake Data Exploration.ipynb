{
 "cells": [
  {
   "cell_type": "code",
   "execution_count": 2,
   "metadata": {
    "collapsed": false
   },
   "outputs": [],
   "source": [
    "import requests\n",
    "import pandas as pd\n",
    "import json\n",
    "\n",
    "earthquake_url = 'http://earthquake.usgs.gov/earthquakes/feed/v1.0/summary/all_month.geojson'\n",
    "r = requests.get(earthquake_url)"
   ]
  },
  {
   "cell_type": "code",
   "execution_count": 28,
   "metadata": {
    "collapsed": false
   },
   "outputs": [
    {
     "data": {
      "text/plain": [
       "dict_keys(['features', 'type', 'bbox', 'metadata'])"
      ]
     },
     "execution_count": 28,
     "metadata": {},
     "output_type": "execute_result"
    }
   ],
   "source": [
    "r.json().keys()"
   ]
  },
  {
   "cell_type": "code",
   "execution_count": 29,
   "metadata": {
    "collapsed": false
   },
   "outputs": [
    {
     "data": {
      "text/plain": [
       "{'api': '1.1.1',\n",
       " 'count': 8177,\n",
       " 'generated': 1454327426000,\n",
       " 'status': 200,\n",
       " 'title': 'USGS All Earthquakes, Past Month',\n",
       " 'url': 'http://earthquake.usgs.gov/earthquakes/feed/v1.0/summary/all_month.geojson'}"
      ]
     },
     "execution_count": 29,
     "metadata": {},
     "output_type": "execute_result"
    }
   ],
   "source": [
    "r.json()['metadata']"
   ]
  },
  {
   "cell_type": "code",
   "execution_count": 30,
   "metadata": {
    "collapsed": false
   },
   "outputs": [
    {
     "data": {
      "text/plain": [
       "'FeatureCollection'"
      ]
     },
     "execution_count": 30,
     "metadata": {},
     "output_type": "execute_result"
    }
   ],
   "source": [
    "r.json()['type']"
   ]
  },
  {
   "cell_type": "code",
   "execution_count": 31,
   "metadata": {
    "collapsed": false
   },
   "outputs": [
    {
     "data": {
      "text/plain": [
       "[-179.7443, -64.6204, -3.48, 179.8983, 84.3324, 633.39]"
      ]
     },
     "execution_count": 31,
     "metadata": {},
     "output_type": "execute_result"
    }
   ],
   "source": [
    "r.json()['bbox']"
   ]
  },
  {
   "cell_type": "code",
   "execution_count": 32,
   "metadata": {
    "collapsed": false
   },
   "outputs": [
    {
     "data": {
      "text/plain": [
       "Index(['geometry.coordinates', 'geometry.type', 'id', 'properties.alert',\n",
       "       'properties.cdi', 'properties.code', 'properties.detail',\n",
       "       'properties.dmin', 'properties.felt', 'properties.gap',\n",
       "       'properties.ids', 'properties.mag', 'properties.magType',\n",
       "       'properties.mmi', 'properties.net', 'properties.nst',\n",
       "       'properties.place', 'properties.rms', 'properties.sig',\n",
       "       'properties.sources', 'properties.status', 'properties.time',\n",
       "       'properties.title', 'properties.tsunami', 'properties.type',\n",
       "       'properties.types', 'properties.tz', 'properties.updated',\n",
       "       'properties.url', 'type'],\n",
       "      dtype='object')"
      ]
     },
     "execution_count": 32,
     "metadata": {},
     "output_type": "execute_result"
    }
   ],
   "source": [
    "from pandas.io.json import json_normalize\n",
    "\n",
    "earthquakes_df = json_normalize(r.json()['features'])\n",
    "earthquakes_df.columns"
   ]
  },
  {
   "cell_type": "code",
   "execution_count": 33,
   "metadata": {
    "collapsed": false,
    "scrolled": true
   },
   "outputs": [
    {
     "data": {
      "text/html": [
       "<div>\n",
       "<table border=\"1\" class=\"dataframe\">\n",
       "  <thead>\n",
       "    <tr style=\"text-align: right;\">\n",
       "      <th></th>\n",
       "      <th>geometry.coordinates</th>\n",
       "      <th>geometry.type</th>\n",
       "      <th>id</th>\n",
       "      <th>properties.alert</th>\n",
       "      <th>properties.cdi</th>\n",
       "      <th>properties.code</th>\n",
       "      <th>properties.detail</th>\n",
       "      <th>properties.dmin</th>\n",
       "      <th>properties.felt</th>\n",
       "      <th>properties.gap</th>\n",
       "      <th>...</th>\n",
       "      <th>properties.status</th>\n",
       "      <th>properties.time</th>\n",
       "      <th>properties.title</th>\n",
       "      <th>properties.tsunami</th>\n",
       "      <th>properties.type</th>\n",
       "      <th>properties.types</th>\n",
       "      <th>properties.tz</th>\n",
       "      <th>properties.updated</th>\n",
       "      <th>properties.url</th>\n",
       "      <th>type</th>\n",
       "    </tr>\n",
       "  </thead>\n",
       "  <tbody>\n",
       "    <tr>\n",
       "      <th>0</th>\n",
       "      <td>[-116.9315, 33.7851667, 10.17]</td>\n",
       "      <td>Point</td>\n",
       "      <td>ci37301703</td>\n",
       "      <td>None</td>\n",
       "      <td>NaN</td>\n",
       "      <td>37301703</td>\n",
       "      <td>http://earthquake.usgs.gov/earthquakes/feed/v1...</td>\n",
       "      <td>0.037910</td>\n",
       "      <td>NaN</td>\n",
       "      <td>34</td>\n",
       "      <td>...</td>\n",
       "      <td>automatic</td>\n",
       "      <td>1454325488440</td>\n",
       "      <td>M 1.2 - 2km E of San Jacinto, California</td>\n",
       "      <td>0</td>\n",
       "      <td>earthquake</td>\n",
       "      <td>,general-link,geoserve,nearby-cities,origin,ph...</td>\n",
       "      <td>-480</td>\n",
       "      <td>1454325737630</td>\n",
       "      <td>http://earthquake.usgs.gov/earthquakes/eventpa...</td>\n",
       "      <td>Feature</td>\n",
       "    </tr>\n",
       "    <tr>\n",
       "      <th>1</th>\n",
       "      <td>[-147.7573, 60.4186, 17.2]</td>\n",
       "      <td>Point</td>\n",
       "      <td>ak12613497</td>\n",
       "      <td>None</td>\n",
       "      <td>NaN</td>\n",
       "      <td>12613497</td>\n",
       "      <td>http://earthquake.usgs.gov/earthquakes/feed/v1...</td>\n",
       "      <td>NaN</td>\n",
       "      <td>NaN</td>\n",
       "      <td>NaN</td>\n",
       "      <td>...</td>\n",
       "      <td>automatic</td>\n",
       "      <td>1454325406000</td>\n",
       "      <td>M 2.0 - 64km SE of Whittier, Alaska</td>\n",
       "      <td>0</td>\n",
       "      <td>earthquake</td>\n",
       "      <td>,general-link,geoserve,nearby-cities,origin,te...</td>\n",
       "      <td>-540</td>\n",
       "      <td>1454325977971</td>\n",
       "      <td>http://earthquake.usgs.gov/earthquakes/eventpa...</td>\n",
       "      <td>Feature</td>\n",
       "    </tr>\n",
       "    <tr>\n",
       "      <th>2</th>\n",
       "      <td>[-122.8134995, 38.8218346, 2.4]</td>\n",
       "      <td>Point</td>\n",
       "      <td>nc72587091</td>\n",
       "      <td>None</td>\n",
       "      <td>NaN</td>\n",
       "      <td>72587091</td>\n",
       "      <td>http://earthquake.usgs.gov/earthquakes/feed/v1...</td>\n",
       "      <td>0.003096</td>\n",
       "      <td>NaN</td>\n",
       "      <td>146</td>\n",
       "      <td>...</td>\n",
       "      <td>automatic</td>\n",
       "      <td>1454323288480</td>\n",
       "      <td>M 0.2 - 7km W of Cobb, California</td>\n",
       "      <td>0</td>\n",
       "      <td>earthquake</td>\n",
       "      <td>,general-link,geoserve,nearby-cities,origin,ph...</td>\n",
       "      <td>-480</td>\n",
       "      <td>1454324645786</td>\n",
       "      <td>http://earthquake.usgs.gov/earthquakes/eventpa...</td>\n",
       "      <td>Feature</td>\n",
       "    </tr>\n",
       "    <tr>\n",
       "      <th>3</th>\n",
       "      <td>[-121.7949982, 37.4766655, 8.21]</td>\n",
       "      <td>Point</td>\n",
       "      <td>nc72587086</td>\n",
       "      <td>None</td>\n",
       "      <td>NaN</td>\n",
       "      <td>72587086</td>\n",
       "      <td>http://earthquake.usgs.gov/earthquakes/feed/v1...</td>\n",
       "      <td>0.041560</td>\n",
       "      <td>NaN</td>\n",
       "      <td>128</td>\n",
       "      <td>...</td>\n",
       "      <td>automatic</td>\n",
       "      <td>1454322983430</td>\n",
       "      <td>M 1.8 - 10km N of East Foothills, California</td>\n",
       "      <td>0</td>\n",
       "      <td>earthquake</td>\n",
       "      <td>,general-link,geoserve,nearby-cities,origin,ph...</td>\n",
       "      <td>-480</td>\n",
       "      <td>1454326805831</td>\n",
       "      <td>http://earthquake.usgs.gov/earthquakes/eventpa...</td>\n",
       "      <td>Feature</td>\n",
       "    </tr>\n",
       "    <tr>\n",
       "      <th>4</th>\n",
       "      <td>[-116.9861667, 33.9913333, 15.85]</td>\n",
       "      <td>Point</td>\n",
       "      <td>ci37301695</td>\n",
       "      <td>None</td>\n",
       "      <td>NaN</td>\n",
       "      <td>37301695</td>\n",
       "      <td>http://earthquake.usgs.gov/earthquakes/feed/v1...</td>\n",
       "      <td>0.069920</td>\n",
       "      <td>NaN</td>\n",
       "      <td>51</td>\n",
       "      <td>...</td>\n",
       "      <td>automatic</td>\n",
       "      <td>1454322234700</td>\n",
       "      <td>M 1.3 - 6km E of Calimesa, California</td>\n",
       "      <td>0</td>\n",
       "      <td>earthquake</td>\n",
       "      <td>,general-link,geoserve,nearby-cities,origin,ph...</td>\n",
       "      <td>-480</td>\n",
       "      <td>1454322489937</td>\n",
       "      <td>http://earthquake.usgs.gov/earthquakes/eventpa...</td>\n",
       "      <td>Feature</td>\n",
       "    </tr>\n",
       "  </tbody>\n",
       "</table>\n",
       "<p>5 rows × 30 columns</p>\n",
       "</div>"
      ],
      "text/plain": [
       "                geometry.coordinates geometry.type          id  \\\n",
       "0     [-116.9315, 33.7851667, 10.17]         Point  ci37301703   \n",
       "1         [-147.7573, 60.4186, 17.2]         Point  ak12613497   \n",
       "2    [-122.8134995, 38.8218346, 2.4]         Point  nc72587091   \n",
       "3   [-121.7949982, 37.4766655, 8.21]         Point  nc72587086   \n",
       "4  [-116.9861667, 33.9913333, 15.85]         Point  ci37301695   \n",
       "\n",
       "  properties.alert  properties.cdi properties.code  \\\n",
       "0             None             NaN        37301703   \n",
       "1             None             NaN        12613497   \n",
       "2             None             NaN        72587091   \n",
       "3             None             NaN        72587086   \n",
       "4             None             NaN        37301695   \n",
       "\n",
       "                                   properties.detail  properties.dmin  \\\n",
       "0  http://earthquake.usgs.gov/earthquakes/feed/v1...         0.037910   \n",
       "1  http://earthquake.usgs.gov/earthquakes/feed/v1...              NaN   \n",
       "2  http://earthquake.usgs.gov/earthquakes/feed/v1...         0.003096   \n",
       "3  http://earthquake.usgs.gov/earthquakes/feed/v1...         0.041560   \n",
       "4  http://earthquake.usgs.gov/earthquakes/feed/v1...         0.069920   \n",
       "\n",
       "   properties.felt  properties.gap   ...    properties.status  \\\n",
       "0              NaN              34   ...            automatic   \n",
       "1              NaN             NaN   ...            automatic   \n",
       "2              NaN             146   ...            automatic   \n",
       "3              NaN             128   ...            automatic   \n",
       "4              NaN              51   ...            automatic   \n",
       "\n",
       "   properties.time                              properties.title  \\\n",
       "0    1454325488440      M 1.2 - 2km E of San Jacinto, California   \n",
       "1    1454325406000           M 2.0 - 64km SE of Whittier, Alaska   \n",
       "2    1454323288480             M 0.2 - 7km W of Cobb, California   \n",
       "3    1454322983430  M 1.8 - 10km N of East Foothills, California   \n",
       "4    1454322234700         M 1.3 - 6km E of Calimesa, California   \n",
       "\n",
       "   properties.tsunami properties.type  \\\n",
       "0                   0      earthquake   \n",
       "1                   0      earthquake   \n",
       "2                   0      earthquake   \n",
       "3                   0      earthquake   \n",
       "4                   0      earthquake   \n",
       "\n",
       "                                    properties.types properties.tz  \\\n",
       "0  ,general-link,geoserve,nearby-cities,origin,ph...          -480   \n",
       "1  ,general-link,geoserve,nearby-cities,origin,te...          -540   \n",
       "2  ,general-link,geoserve,nearby-cities,origin,ph...          -480   \n",
       "3  ,general-link,geoserve,nearby-cities,origin,ph...          -480   \n",
       "4  ,general-link,geoserve,nearby-cities,origin,ph...          -480   \n",
       "\n",
       "   properties.updated                                     properties.url  \\\n",
       "0       1454325737630  http://earthquake.usgs.gov/earthquakes/eventpa...   \n",
       "1       1454325977971  http://earthquake.usgs.gov/earthquakes/eventpa...   \n",
       "2       1454324645786  http://earthquake.usgs.gov/earthquakes/eventpa...   \n",
       "3       1454326805831  http://earthquake.usgs.gov/earthquakes/eventpa...   \n",
       "4       1454322489937  http://earthquake.usgs.gov/earthquakes/eventpa...   \n",
       "\n",
       "      type  \n",
       "0  Feature  \n",
       "1  Feature  \n",
       "2  Feature  \n",
       "3  Feature  \n",
       "4  Feature  \n",
       "\n",
       "[5 rows x 30 columns]"
      ]
     },
     "execution_count": 33,
     "metadata": {},
     "output_type": "execute_result"
    }
   ],
   "source": [
    "earthquakes_df.head()"
   ]
  },
  {
   "cell_type": "code",
   "execution_count": 34,
   "metadata": {
    "collapsed": true
   },
   "outputs": [],
   "source": [
    "earthquakes_df.to_csv('earthquakes_data_Feb_2016.csv', index=False)"
   ]
  },
  {
   "cell_type": "code",
   "execution_count": 3,
   "metadata": {
    "collapsed": false
   },
   "outputs": [
    {
     "data": {
      "text/html": [
       "<div>\n",
       "<table border=\"1\" class=\"dataframe\">\n",
       "  <thead>\n",
       "    <tr style=\"text-align: right;\">\n",
       "      <th></th>\n",
       "      <th>geometry.coordinates</th>\n",
       "      <th>geometry.type</th>\n",
       "      <th>id</th>\n",
       "      <th>properties.alert</th>\n",
       "      <th>properties.cdi</th>\n",
       "      <th>properties.code</th>\n",
       "      <th>properties.detail</th>\n",
       "      <th>properties.dmin</th>\n",
       "      <th>properties.felt</th>\n",
       "      <th>properties.gap</th>\n",
       "      <th>...</th>\n",
       "      <th>properties.status</th>\n",
       "      <th>properties.time</th>\n",
       "      <th>properties.title</th>\n",
       "      <th>properties.tsunami</th>\n",
       "      <th>properties.type</th>\n",
       "      <th>properties.types</th>\n",
       "      <th>properties.tz</th>\n",
       "      <th>properties.updated</th>\n",
       "      <th>properties.url</th>\n",
       "      <th>type</th>\n",
       "    </tr>\n",
       "  </thead>\n",
       "  <tbody>\n",
       "    <tr>\n",
       "      <th>0</th>\n",
       "      <td>[-116.9315, 33.7851667, 10.17]</td>\n",
       "      <td>Point</td>\n",
       "      <td>ci37301703</td>\n",
       "      <td>NaN</td>\n",
       "      <td>NaN</td>\n",
       "      <td>37301703</td>\n",
       "      <td>http://earthquake.usgs.gov/earthquakes/feed/v1...</td>\n",
       "      <td>0.037910</td>\n",
       "      <td>NaN</td>\n",
       "      <td>34</td>\n",
       "      <td>...</td>\n",
       "      <td>automatic</td>\n",
       "      <td>1454325488440</td>\n",
       "      <td>M 1.2 - 2km E of San Jacinto, California</td>\n",
       "      <td>0</td>\n",
       "      <td>earthquake</td>\n",
       "      <td>,general-link,geoserve,nearby-cities,origin,ph...</td>\n",
       "      <td>-480</td>\n",
       "      <td>1454325737630</td>\n",
       "      <td>http://earthquake.usgs.gov/earthquakes/eventpa...</td>\n",
       "      <td>Feature</td>\n",
       "    </tr>\n",
       "    <tr>\n",
       "      <th>1</th>\n",
       "      <td>[-147.7573, 60.4186, 17.2]</td>\n",
       "      <td>Point</td>\n",
       "      <td>ak12613497</td>\n",
       "      <td>NaN</td>\n",
       "      <td>NaN</td>\n",
       "      <td>12613497</td>\n",
       "      <td>http://earthquake.usgs.gov/earthquakes/feed/v1...</td>\n",
       "      <td>NaN</td>\n",
       "      <td>NaN</td>\n",
       "      <td>NaN</td>\n",
       "      <td>...</td>\n",
       "      <td>automatic</td>\n",
       "      <td>1454325406000</td>\n",
       "      <td>M 2.0 - 64km SE of Whittier, Alaska</td>\n",
       "      <td>0</td>\n",
       "      <td>earthquake</td>\n",
       "      <td>,general-link,geoserve,nearby-cities,origin,te...</td>\n",
       "      <td>-540</td>\n",
       "      <td>1454325977971</td>\n",
       "      <td>http://earthquake.usgs.gov/earthquakes/eventpa...</td>\n",
       "      <td>Feature</td>\n",
       "    </tr>\n",
       "    <tr>\n",
       "      <th>2</th>\n",
       "      <td>[-122.8134995, 38.8218346, 2.4]</td>\n",
       "      <td>Point</td>\n",
       "      <td>nc72587091</td>\n",
       "      <td>NaN</td>\n",
       "      <td>NaN</td>\n",
       "      <td>72587091</td>\n",
       "      <td>http://earthquake.usgs.gov/earthquakes/feed/v1...</td>\n",
       "      <td>0.003096</td>\n",
       "      <td>NaN</td>\n",
       "      <td>146</td>\n",
       "      <td>...</td>\n",
       "      <td>automatic</td>\n",
       "      <td>1454323288480</td>\n",
       "      <td>M 0.2 - 7km W of Cobb, California</td>\n",
       "      <td>0</td>\n",
       "      <td>earthquake</td>\n",
       "      <td>,general-link,geoserve,nearby-cities,origin,ph...</td>\n",
       "      <td>-480</td>\n",
       "      <td>1454324645786</td>\n",
       "      <td>http://earthquake.usgs.gov/earthquakes/eventpa...</td>\n",
       "      <td>Feature</td>\n",
       "    </tr>\n",
       "    <tr>\n",
       "      <th>3</th>\n",
       "      <td>[-121.7949982, 37.4766655, 8.21]</td>\n",
       "      <td>Point</td>\n",
       "      <td>nc72587086</td>\n",
       "      <td>NaN</td>\n",
       "      <td>NaN</td>\n",
       "      <td>72587086</td>\n",
       "      <td>http://earthquake.usgs.gov/earthquakes/feed/v1...</td>\n",
       "      <td>0.041560</td>\n",
       "      <td>NaN</td>\n",
       "      <td>128</td>\n",
       "      <td>...</td>\n",
       "      <td>automatic</td>\n",
       "      <td>1454322983430</td>\n",
       "      <td>M 1.8 - 10km N of East Foothills, California</td>\n",
       "      <td>0</td>\n",
       "      <td>earthquake</td>\n",
       "      <td>,general-link,geoserve,nearby-cities,origin,ph...</td>\n",
       "      <td>-480</td>\n",
       "      <td>1454326805831</td>\n",
       "      <td>http://earthquake.usgs.gov/earthquakes/eventpa...</td>\n",
       "      <td>Feature</td>\n",
       "    </tr>\n",
       "    <tr>\n",
       "      <th>4</th>\n",
       "      <td>[-116.9861667, 33.9913333, 15.85]</td>\n",
       "      <td>Point</td>\n",
       "      <td>ci37301695</td>\n",
       "      <td>NaN</td>\n",
       "      <td>NaN</td>\n",
       "      <td>37301695</td>\n",
       "      <td>http://earthquake.usgs.gov/earthquakes/feed/v1...</td>\n",
       "      <td>0.069920</td>\n",
       "      <td>NaN</td>\n",
       "      <td>51</td>\n",
       "      <td>...</td>\n",
       "      <td>automatic</td>\n",
       "      <td>1454322234700</td>\n",
       "      <td>M 1.3 - 6km E of Calimesa, California</td>\n",
       "      <td>0</td>\n",
       "      <td>earthquake</td>\n",
       "      <td>,general-link,geoserve,nearby-cities,origin,ph...</td>\n",
       "      <td>-480</td>\n",
       "      <td>1454322489937</td>\n",
       "      <td>http://earthquake.usgs.gov/earthquakes/eventpa...</td>\n",
       "      <td>Feature</td>\n",
       "    </tr>\n",
       "  </tbody>\n",
       "</table>\n",
       "<p>5 rows × 30 columns</p>\n",
       "</div>"
      ],
      "text/plain": [
       "                geometry.coordinates geometry.type          id  \\\n",
       "0     [-116.9315, 33.7851667, 10.17]         Point  ci37301703   \n",
       "1         [-147.7573, 60.4186, 17.2]         Point  ak12613497   \n",
       "2    [-122.8134995, 38.8218346, 2.4]         Point  nc72587091   \n",
       "3   [-121.7949982, 37.4766655, 8.21]         Point  nc72587086   \n",
       "4  [-116.9861667, 33.9913333, 15.85]         Point  ci37301695   \n",
       "\n",
       "  properties.alert  properties.cdi properties.code  \\\n",
       "0              NaN             NaN        37301703   \n",
       "1              NaN             NaN        12613497   \n",
       "2              NaN             NaN        72587091   \n",
       "3              NaN             NaN        72587086   \n",
       "4              NaN             NaN        37301695   \n",
       "\n",
       "                                   properties.detail  properties.dmin  \\\n",
       "0  http://earthquake.usgs.gov/earthquakes/feed/v1...         0.037910   \n",
       "1  http://earthquake.usgs.gov/earthquakes/feed/v1...              NaN   \n",
       "2  http://earthquake.usgs.gov/earthquakes/feed/v1...         0.003096   \n",
       "3  http://earthquake.usgs.gov/earthquakes/feed/v1...         0.041560   \n",
       "4  http://earthquake.usgs.gov/earthquakes/feed/v1...         0.069920   \n",
       "\n",
       "   properties.felt  properties.gap   ...    properties.status  \\\n",
       "0              NaN              34   ...            automatic   \n",
       "1              NaN             NaN   ...            automatic   \n",
       "2              NaN             146   ...            automatic   \n",
       "3              NaN             128   ...            automatic   \n",
       "4              NaN              51   ...            automatic   \n",
       "\n",
       "   properties.time                              properties.title  \\\n",
       "0    1454325488440      M 1.2 - 2km E of San Jacinto, California   \n",
       "1    1454325406000           M 2.0 - 64km SE of Whittier, Alaska   \n",
       "2    1454323288480             M 0.2 - 7km W of Cobb, California   \n",
       "3    1454322983430  M 1.8 - 10km N of East Foothills, California   \n",
       "4    1454322234700         M 1.3 - 6km E of Calimesa, California   \n",
       "\n",
       "   properties.tsunami properties.type  \\\n",
       "0                   0      earthquake   \n",
       "1                   0      earthquake   \n",
       "2                   0      earthquake   \n",
       "3                   0      earthquake   \n",
       "4                   0      earthquake   \n",
       "\n",
       "                                    properties.types properties.tz  \\\n",
       "0  ,general-link,geoserve,nearby-cities,origin,ph...          -480   \n",
       "1  ,general-link,geoserve,nearby-cities,origin,te...          -540   \n",
       "2  ,general-link,geoserve,nearby-cities,origin,ph...          -480   \n",
       "3  ,general-link,geoserve,nearby-cities,origin,ph...          -480   \n",
       "4  ,general-link,geoserve,nearby-cities,origin,ph...          -480   \n",
       "\n",
       "   properties.updated                                     properties.url  \\\n",
       "0       1454325737630  http://earthquake.usgs.gov/earthquakes/eventpa...   \n",
       "1       1454325977971  http://earthquake.usgs.gov/earthquakes/eventpa...   \n",
       "2       1454324645786  http://earthquake.usgs.gov/earthquakes/eventpa...   \n",
       "3       1454326805831  http://earthquake.usgs.gov/earthquakes/eventpa...   \n",
       "4       1454322489937  http://earthquake.usgs.gov/earthquakes/eventpa...   \n",
       "\n",
       "      type  \n",
       "0  Feature  \n",
       "1  Feature  \n",
       "2  Feature  \n",
       "3  Feature  \n",
       "4  Feature  \n",
       "\n",
       "[5 rows x 30 columns]"
      ]
     },
     "execution_count": 3,
     "metadata": {},
     "output_type": "execute_result"
    }
   ],
   "source": [
    "earthquakes_df = pd.read_csv('earthquakes_data_Feb_2016.csv')\n",
    "earthquakes_df.head()"
   ]
  },
  {
   "cell_type": "markdown",
   "metadata": {},
   "source": [
    "# Data Exploration and Visualization"
   ]
  },
  {
   "cell_type": "code",
   "execution_count": 6,
   "metadata": {
    "collapsed": false
   },
   "outputs": [],
   "source": [
    "%matplotlib inline"
   ]
  },
  {
   "cell_type": "code",
   "execution_count": 7,
   "metadata": {
    "collapsed": false
   },
   "outputs": [],
   "source": [
    "import seaborn as sns"
   ]
  },
  {
   "cell_type": "code",
   "execution_count": 8,
   "metadata": {
    "collapsed": false
   },
   "outputs": [
    {
     "data": {
      "text/html": [
       "<div>\n",
       "<table border=\"1\" class=\"dataframe\">\n",
       "  <thead>\n",
       "    <tr style=\"text-align: right;\">\n",
       "      <th></th>\n",
       "      <th>properties.cdi</th>\n",
       "      <th>properties.dmin</th>\n",
       "      <th>properties.felt</th>\n",
       "      <th>properties.gap</th>\n",
       "      <th>properties.mag</th>\n",
       "      <th>properties.mmi</th>\n",
       "      <th>properties.nst</th>\n",
       "      <th>properties.rms</th>\n",
       "      <th>properties.sig</th>\n",
       "      <th>properties.time</th>\n",
       "      <th>properties.tsunami</th>\n",
       "      <th>properties.tz</th>\n",
       "      <th>properties.updated</th>\n",
       "    </tr>\n",
       "  </thead>\n",
       "  <tbody>\n",
       "    <tr>\n",
       "      <th>count</th>\n",
       "      <td>1627.000000</td>\n",
       "      <td>5517.000000</td>\n",
       "      <td>1627.000000</td>\n",
       "      <td>5983.000000</td>\n",
       "      <td>8177.000000</td>\n",
       "      <td>89.000000</td>\n",
       "      <td>5184.000000</td>\n",
       "      <td>8169.000000</td>\n",
       "      <td>8177.000000</td>\n",
       "      <td>8.177000e+03</td>\n",
       "      <td>8177.000000</td>\n",
       "      <td>8177.000000</td>\n",
       "      <td>8.177000e+03</td>\n",
       "    </tr>\n",
       "    <tr>\n",
       "      <th>mean</th>\n",
       "      <td>1.655378</td>\n",
       "      <td>0.498420</td>\n",
       "      <td>12.696988</td>\n",
       "      <td>126.442650</td>\n",
       "      <td>1.657777</td>\n",
       "      <td>3.923034</td>\n",
       "      <td>16.932292</td>\n",
       "      <td>0.306382</td>\n",
       "      <td>63.634340</td>\n",
       "      <td>1.452966e+12</td>\n",
       "      <td>0.004280</td>\n",
       "      <td>-444.836126</td>\n",
       "      <td>1.453214e+12</td>\n",
       "    </tr>\n",
       "    <tr>\n",
       "      <th>std</th>\n",
       "      <td>1.108094</td>\n",
       "      <td>2.119403</td>\n",
       "      <td>213.843636</td>\n",
       "      <td>72.826475</td>\n",
       "      <td>1.155796</td>\n",
       "      <td>1.496997</td>\n",
       "      <td>14.021064</td>\n",
       "      <td>0.291188</td>\n",
       "      <td>93.374955</td>\n",
       "      <td>7.117056e+08</td>\n",
       "      <td>0.065288</td>\n",
       "      <td>216.859332</td>\n",
       "      <td>7.144446e+08</td>\n",
       "    </tr>\n",
       "    <tr>\n",
       "      <th>min</th>\n",
       "      <td>0.000000</td>\n",
       "      <td>0.000267</td>\n",
       "      <td>0.000000</td>\n",
       "      <td>12.000000</td>\n",
       "      <td>-1.300000</td>\n",
       "      <td>0.000000</td>\n",
       "      <td>0.000000</td>\n",
       "      <td>0.000000</td>\n",
       "      <td>0.000000</td>\n",
       "      <td>1.451736e+12</td>\n",
       "      <td>0.000000</td>\n",
       "      <td>-720.000000</td>\n",
       "      <td>1.451737e+12</td>\n",
       "    </tr>\n",
       "    <tr>\n",
       "      <th>25%</th>\n",
       "      <td>1.000000</td>\n",
       "      <td>0.020840</td>\n",
       "      <td>0.000000</td>\n",
       "      <td>72.000000</td>\n",
       "      <td>0.880000</td>\n",
       "      <td>3.260000</td>\n",
       "      <td>7.000000</td>\n",
       "      <td>0.090000</td>\n",
       "      <td>12.000000</td>\n",
       "      <td>1.452363e+12</td>\n",
       "      <td>0.000000</td>\n",
       "      <td>-540.000000</td>\n",
       "      <td>1.452640e+12</td>\n",
       "    </tr>\n",
       "    <tr>\n",
       "      <th>50%</th>\n",
       "      <td>1.000000</td>\n",
       "      <td>0.080790</td>\n",
       "      <td>0.000000</td>\n",
       "      <td>107.000000</td>\n",
       "      <td>1.400000</td>\n",
       "      <td>3.840000</td>\n",
       "      <td>12.000000</td>\n",
       "      <td>0.180000</td>\n",
       "      <td>30.000000</td>\n",
       "      <td>1.452946e+12</td>\n",
       "      <td>0.000000</td>\n",
       "      <td>-480.000000</td>\n",
       "      <td>1.453266e+12</td>\n",
       "    </tr>\n",
       "    <tr>\n",
       "      <th>75%</th>\n",
       "      <td>2.200000</td>\n",
       "      <td>0.208000</td>\n",
       "      <td>1.000000</td>\n",
       "      <td>161.285000</td>\n",
       "      <td>2.100000</td>\n",
       "      <td>4.710000</td>\n",
       "      <td>22.000000</td>\n",
       "      <td>0.490000</td>\n",
       "      <td>68.000000</td>\n",
       "      <td>1.453629e+12</td>\n",
       "      <td>0.000000</td>\n",
       "      <td>-480.000000</td>\n",
       "      <td>1.453862e+12</td>\n",
       "    </tr>\n",
       "    <tr>\n",
       "      <th>max</th>\n",
       "      <td>7.800000</td>\n",
       "      <td>49.212000</td>\n",
       "      <td>7821.000000</td>\n",
       "      <td>356.400000</td>\n",
       "      <td>7.200000</td>\n",
       "      <td>7.120000</td>\n",
       "      <td>136.000000</td>\n",
       "      <td>2.170000</td>\n",
       "      <td>1756.000000</td>\n",
       "      <td>1.454325e+12</td>\n",
       "      <td>1.000000</td>\n",
       "      <td>780.000000</td>\n",
       "      <td>1.454327e+12</td>\n",
       "    </tr>\n",
       "  </tbody>\n",
       "</table>\n",
       "</div>"
      ],
      "text/plain": [
       "       properties.cdi  properties.dmin  properties.felt  properties.gap  \\\n",
       "count     1627.000000      5517.000000      1627.000000     5983.000000   \n",
       "mean         1.655378         0.498420        12.696988      126.442650   \n",
       "std          1.108094         2.119403       213.843636       72.826475   \n",
       "min          0.000000         0.000267         0.000000       12.000000   \n",
       "25%          1.000000         0.020840         0.000000       72.000000   \n",
       "50%          1.000000         0.080790         0.000000      107.000000   \n",
       "75%          2.200000         0.208000         1.000000      161.285000   \n",
       "max          7.800000        49.212000      7821.000000      356.400000   \n",
       "\n",
       "       properties.mag  properties.mmi  properties.nst  properties.rms  \\\n",
       "count     8177.000000       89.000000     5184.000000     8169.000000   \n",
       "mean         1.657777        3.923034       16.932292        0.306382   \n",
       "std          1.155796        1.496997       14.021064        0.291188   \n",
       "min         -1.300000        0.000000        0.000000        0.000000   \n",
       "25%          0.880000        3.260000        7.000000        0.090000   \n",
       "50%          1.400000        3.840000       12.000000        0.180000   \n",
       "75%          2.100000        4.710000       22.000000        0.490000   \n",
       "max          7.200000        7.120000      136.000000        2.170000   \n",
       "\n",
       "       properties.sig  properties.time  properties.tsunami  properties.tz  \\\n",
       "count     8177.000000     8.177000e+03         8177.000000    8177.000000   \n",
       "mean        63.634340     1.452966e+12            0.004280    -444.836126   \n",
       "std         93.374955     7.117056e+08            0.065288     216.859332   \n",
       "min          0.000000     1.451736e+12            0.000000    -720.000000   \n",
       "25%         12.000000     1.452363e+12            0.000000    -540.000000   \n",
       "50%         30.000000     1.452946e+12            0.000000    -480.000000   \n",
       "75%         68.000000     1.453629e+12            0.000000    -480.000000   \n",
       "max       1756.000000     1.454325e+12            1.000000     780.000000   \n",
       "\n",
       "       properties.updated  \n",
       "count        8.177000e+03  \n",
       "mean         1.453214e+12  \n",
       "std          7.144446e+08  \n",
       "min          1.451737e+12  \n",
       "25%          1.452640e+12  \n",
       "50%          1.453266e+12  \n",
       "75%          1.453862e+12  \n",
       "max          1.454327e+12  "
      ]
     },
     "execution_count": 8,
     "metadata": {},
     "output_type": "execute_result"
    }
   ],
   "source": [
    "earthquakes_df.describe()"
   ]
  },
  {
   "cell_type": "code",
   "execution_count": 9,
   "metadata": {
    "collapsed": false
   },
   "outputs": [
    {
     "data": {
      "text/plain": [
       "green     49\n",
       "yellow     1\n",
       "orange     1\n",
       "Name: properties.alert, dtype: int64"
      ]
     },
     "execution_count": 9,
     "metadata": {},
     "output_type": "execute_result"
    }
   ],
   "source": [
    "earthquakes_df['properties.alert'].value_counts()"
   ]
  },
  {
   "cell_type": "code",
   "execution_count": 10,
   "metadata": {
    "collapsed": false
   },
   "outputs": [
    {
     "data": {
      "text/plain": [
       "earthquake           8064\n",
       "quarry blast           77\n",
       "explosion              32\n",
       "not reported            1\n",
       "sonic boom              1\n",
       "rock burst              1\n",
       "nuclear explosion       1\n",
       "Name: properties.type, dtype: int64"
      ]
     },
     "execution_count": 10,
     "metadata": {},
     "output_type": "execute_result"
    }
   ],
   "source": [
    "earthquakes_df['properties.type'].value_counts()"
   ]
  },
  {
   "cell_type": "code",
   "execution_count": 26,
   "metadata": {
    "collapsed": false
   },
   "outputs": [
    {
     "data": {
      "text/html": [
       "<div>\n",
       "<table border=\"1\" class=\"dataframe\">\n",
       "  <thead>\n",
       "    <tr style=\"text-align: right;\">\n",
       "      <th></th>\n",
       "      <th>Alert Type</th>\n",
       "    </tr>\n",
       "  </thead>\n",
       "  <tbody>\n",
       "    <tr>\n",
       "      <th>green</th>\n",
       "      <td>49</td>\n",
       "    </tr>\n",
       "    <tr>\n",
       "      <th>yellow</th>\n",
       "      <td>1</td>\n",
       "    </tr>\n",
       "    <tr>\n",
       "      <th>orange</th>\n",
       "      <td>1</td>\n",
       "    </tr>\n",
       "  </tbody>\n",
       "</table>\n",
       "</div>"
      ],
      "text/plain": [
       "        Alert Type\n",
       "green           49\n",
       "yellow           1\n",
       "orange           1"
      ]
     },
     "execution_count": 26,
     "metadata": {},
     "output_type": "execute_result"
    }
   ],
   "source": [
    "alert_value_count_series = earthquakes_df['properties.alert'].value_counts()\n",
    "alert_value_count_df = pd.DataFrame(alert_value_count_series)\n",
    "alert_value_count_df.columns = ['Alert Type']\n",
    "alert_value_count_df"
   ]
  },
  {
   "cell_type": "code",
   "execution_count": 27,
   "metadata": {
    "collapsed": false
   },
   "outputs": [
    {
     "data": {
      "image/png": "[encoded data removed]",
      "text/plain": [
       "<matplotlib.figure.Figure at 0x117135e48>"
      ]
     },
     "metadata": {},
     "output_type": "display_data"
    }
   ],
   "source": [
    "fig = alert_value_count_df.plot(kind='bar')"
   ]
  },
  {
   "cell_type": "code",
   "execution_count": 28,
   "metadata": {
    "collapsed": true
   },
   "outputs": [],
   "source": [
    "def plot_value_count_as_bar(column, variable_name):\n",
    "    column_value_count_series = column.value_counts()\n",
    "    column_value_count_df = pd.DataFrame(column_value_count_series)\n",
    "    column_value_count_df.columns = [variable_name]\n",
    "    fig = column_value_count_df.plot(kind='bar')"
   ]
  },
  {
   "cell_type": "code",
   "execution_count": 30,
   "metadata": {
    "collapsed": false
   },
   "outputs": [
    {
     "data": {
      "image/png": "[encoded data removed]",
      "text/plain": [
       "<matplotlib.figure.Figure at 0x117316e48>"
      ]
     },
     "metadata": {},
     "output_type": "display_data"
    }
   ],
   "source": [
    "plot_value_count_as_bar(earthquakes_df['properties.type'], 'Earthquake Types')"
   ]
  },
  {
   "cell_type": "code",
   "execution_count": 31,
   "metadata": {
    "collapsed": false
   },
   "outputs": [
    {
     "data": {
      "text/plain": [
       "<matplotlib.axes._subplots.AxesSubplot at 0x1176276d8>"
      ]
     },
     "execution_count": 31,
     "metadata": {},
     "output_type": "execute_result"
    },
    {
     "data": {
      "image/png": "[encoded data removed]",
      "text/plain": [
       "<matplotlib.figure.Figure at 0x117631518>"
      ]
     },
     "metadata": {},
     "output_type": "display_data"
    }
   ],
   "source": [
    "earthquakes_df['properties.cdi'].hist(grid=False)"
   ]
  },
  {
   "cell_type": "code",
   "execution_count": 32,
   "metadata": {
    "collapsed": false
   },
   "outputs": [
    {
     "data": {
      "text/plain": [
       "<matplotlib.axes._subplots.AxesSubplot at 0x1177536a0>"
      ]
     },
     "execution_count": 32,
     "metadata": {},
     "output_type": "execute_result"
    },
    {
     "data": {
      "image/png": "[encoded data removed]",
      "text/plain": [
       "<matplotlib.figure.Figure at 0x1177f1c50>"
      ]
     },
     "metadata": {},
     "output_type": "display_data"
    }
   ],
   "source": [
    "earthquakes_df['properties.felt'].hist(grid=False)"
   ]
  },
  {
   "cell_type": "code",
   "execution_count": 33,
   "metadata": {
    "collapsed": false
   },
   "outputs": [
    {
     "data": {
      "text/plain": [
       "<matplotlib.axes._subplots.AxesSubplot at 0x11786af60>"
      ]
     },
     "execution_count": 33,
     "metadata": {},
     "output_type": "execute_result"
    },
    {
     "data": {
      "image/png": "[encoded data removed]",
      "text/plain": [
       "<matplotlib.figure.Figure at 0x11791c128>"
      ]
     },
     "metadata": {},
     "output_type": "display_data"
    }
   ],
   "source": [
    "earthquakes_df['properties.mag'].hist(grid=False)"
   ]
  },
  {
   "cell_type": "code",
   "execution_count": 37,
   "metadata": {
    "collapsed": false
   },
   "outputs": [
    {
     "data": {
      "text/plain": [
       "geometry.coordinates                           [158.5064, 54.007, 160.97]\n",
       "geometry.type                                                       Point\n",
       "id                                                             us20004vvx\n",
       "properties.alert                                                   yellow\n",
       "properties.cdi                                                        3.4\n",
       "properties.code                                                  20004vvx\n",
       "properties.detail       http://earthquake.usgs.gov/earthquakes/feed/v1...\n",
       "properties.dmin                                                     0.989\n",
       "properties.felt                                                         2\n",
       "properties.gap                                                         18\n",
       "properties.ids                         ,pt16030050,at00o1qxho,us20004vvx,\n",
       "properties.mag                                                        7.2\n",
       "properties.magType                                                    mww\n",
       "properties.mmi                                                       6.05\n",
       "properties.net                                                         us\n",
       "properties.nst                                                        NaN\n",
       "properties.place                               91km N of Yelizovo, Russia\n",
       "properties.rms                                                       0.79\n",
       "properties.sig                                                        798\n",
       "properties.sources                                             ,pt,at,us,\n",
       "properties.status                                                reviewed\n",
       "properties.time                                             1454124310420\n",
       "properties.title                       M 7.2 - 91km N of Yelizovo, Russia\n",
       "properties.tsunami                                                      1\n",
       "properties.type                                                earthquake\n",
       "properties.types        ,cap,dyfi,finite-fault,general-link,general-te...\n",
       "properties.tz                                                         720\n",
       "properties.updated                                          1454173838040\n",
       "properties.url          http://earthquake.usgs.gov/earthquakes/eventpa...\n",
       "type                                                              Feature\n",
       "Name: 357, dtype: object"
      ]
     },
     "execution_count": 37,
     "metadata": {},
     "output_type": "execute_result"
    }
   ],
   "source": [
    "earthquakes_df.ix[earthquakes_df['properties.mag'].idxmax(),]"
   ]
  },
  {
   "cell_type": "code",
   "execution_count": null,
   "metadata": {
    "collapsed": true
   },
   "outputs": [],
   "source": []
  }
 ],
 "metadata": {
  "kernelspec": {
   "display_name": "Python 3",
   "language": "python",
   "name": "python3"
  },
  "language_info": {
   "codemirror_mode": {
    "name": "ipython",
    "version": 3
   },
   "file_extension": ".py",
   "mimetype": "text/x-python",
   "name": "python",
   "nbconvert_exporter": "python",
   "pygments_lexer": "ipython3",
   "version": "3.4.3"
  }
 },
 "nbformat": 4,
 "nbformat_minor": 0
}
